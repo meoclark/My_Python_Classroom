{
 "cells": [
  {
   "cell_type": "code",
   "execution_count": 31,
   "metadata": {},
   "outputs": [],
   "source": [
    "def vol(rad):\n",
    "    return (4/3)*(3.14)*(rad**3)"
   ]
  },
  {
   "cell_type": "code",
   "execution_count": 32,
   "metadata": {},
   "outputs": [
    {
     "data": {
      "text/plain": [
       "33.49333333333333"
      ]
     },
     "execution_count": 32,
     "metadata": {},
     "output_type": "execute_result"
    }
   ],
   "source": [
    "vol(2)"
   ]
  },
  {
   "cell_type": "code",
   "execution_count": 33,
   "metadata": {},
   "outputs": [],
   "source": [
    "def ran_check(num,low,high):\n",
    "    if num > low and high > num:\n",
    "        return 'It is in a given range'\n",
    "    else:\n",
    "        return 'It is not in a given range'\n",
    "    "
   ]
  },
  {
   "cell_type": "code",
   "execution_count": 34,
   "metadata": {},
   "outputs": [
    {
     "data": {
      "text/plain": [
       "'It is in a given range'"
      ]
     },
     "execution_count": 34,
     "metadata": {},
     "output_type": "execute_result"
    }
   ],
   "source": [
    "ran_check(10,7,35)"
   ]
  },
  {
   "cell_type": "code",
   "execution_count": 35,
   "metadata": {},
   "outputs": [],
   "source": [
    "def ran_bool(num,low,high):\n",
    "    if num > low and high > num:\n",
    "        return True\n",
    "    else:\n",
    "        return False"
   ]
  },
  {
   "cell_type": "code",
   "execution_count": 36,
   "metadata": {},
   "outputs": [
    {
     "data": {
      "text/plain": [
       "True"
      ]
     },
     "execution_count": 36,
     "metadata": {},
     "output_type": "execute_result"
    }
   ],
   "source": [
    "ran_bool(3,1,10)"
   ]
  },
  {
   "cell_type": "code",
   "execution_count": 37,
   "metadata": {},
   "outputs": [],
   "source": [
    "def ran_bol(num,low,high):\n",
    "    return num in range(low,high)"
   ]
  },
  {
   "cell_type": "code",
   "execution_count": 38,
   "metadata": {},
   "outputs": [
    {
     "data": {
      "text/plain": [
       "True"
      ]
     },
     "execution_count": 38,
     "metadata": {},
     "output_type": "execute_result"
    }
   ],
   "source": [
    "ran_bol(3,1,10)"
   ]
  },
  {
   "cell_type": "code",
   "execution_count": null,
   "metadata": {},
   "outputs": [],
   "source": [
    "def up_low(s):\n",
    "    for string in s.upper():\n",
    "        \n",
    "        return 'No of Upper case : ' ++s.upper()\n",
    "    \n",
    "    else:\n",
    "            return 'No of Lower case : ' ++s.lower()"
   ]
  },
  {
   "cell_type": "code",
   "execution_count": null,
   "metadata": {},
   "outputs": [],
   "source": [
    "up_low('AmaKa')"
   ]
  },
  {
   "cell_type": "code",
   "execution_count": null,
   "metadata": {},
   "outputs": [],
   "source": []
  },
  {
   "cell_type": "code",
   "execution_count": 42,
   "metadata": {},
   "outputs": [],
   "source": [
    "def up_low(s):\n",
    "    d={\"upper\":0, \"lower\":0}\n",
    "    for c in s:\n",
    "        if c.isupper():\n",
    "            d[\"upper\"]+=1\n",
    "        elif c.islower():\n",
    "            d[\"lower\"]+=1\n",
    "        else:\n",
    "            pass\n",
    "        print (\"Original String : \",s)\n",
    "        print( \"No. of Upper case characters :\",d[\"upper\"])\n",
    "        print( \"No. of Lower case characters :\",d[\"lower\"])"
   ]
  },
  {
   "cell_type": "code",
   "execution_count": 43,
   "metadata": {},
   "outputs": [],
   "source": [
    "s = 'Hello Mr. Rogers,how are you this fine Tuesday'"
   ]
  },
  {
   "cell_type": "code",
   "execution_count": 44,
   "metadata": {},
   "outputs": [
    {
     "name": "stdout",
     "output_type": "stream",
     "text": [
      "Original String :  Hello Mr. Rogers,how are you this fine Tuesday\n",
      "No. of Upper case characters : 1\n",
      "No. of Lower case characters : 0\n",
      "Original String :  Hello Mr. Rogers,how are you this fine Tuesday\n",
      "No. of Upper case characters : 1\n",
      "No. of Lower case characters : 1\n",
      "Original String :  Hello Mr. Rogers,how are you this fine Tuesday\n",
      "No. of Upper case characters : 1\n",
      "No. of Lower case characters : 2\n",
      "Original String :  Hello Mr. Rogers,how are you this fine Tuesday\n",
      "No. of Upper case characters : 1\n",
      "No. of Lower case characters : 3\n",
      "Original String :  Hello Mr. Rogers,how are you this fine Tuesday\n",
      "No. of Upper case characters : 1\n",
      "No. of Lower case characters : 4\n",
      "Original String :  Hello Mr. Rogers,how are you this fine Tuesday\n",
      "No. of Upper case characters : 1\n",
      "No. of Lower case characters : 4\n",
      "Original String :  Hello Mr. Rogers,how are you this fine Tuesday\n",
      "No. of Upper case characters : 2\n",
      "No. of Lower case characters : 4\n",
      "Original String :  Hello Mr. Rogers,how are you this fine Tuesday\n",
      "No. of Upper case characters : 2\n",
      "No. of Lower case characters : 5\n",
      "Original String :  Hello Mr. Rogers,how are you this fine Tuesday\n",
      "No. of Upper case characters : 2\n",
      "No. of Lower case characters : 5\n",
      "Original String :  Hello Mr. Rogers,how are you this fine Tuesday\n",
      "No. of Upper case characters : 2\n",
      "No. of Lower case characters : 5\n",
      "Original String :  Hello Mr. Rogers,how are you this fine Tuesday\n",
      "No. of Upper case characters : 3\n",
      "No. of Lower case characters : 5\n",
      "Original String :  Hello Mr. Rogers,how are you this fine Tuesday\n",
      "No. of Upper case characters : 3\n",
      "No. of Lower case characters : 6\n",
      "Original String :  Hello Mr. Rogers,how are you this fine Tuesday\n",
      "No. of Upper case characters : 3\n",
      "No. of Lower case characters : 7\n",
      "Original String :  Hello Mr. Rogers,how are you this fine Tuesday\n",
      "No. of Upper case characters : 3\n",
      "No. of Lower case characters : 8\n",
      "Original String :  Hello Mr. Rogers,how are you this fine Tuesday\n",
      "No. of Upper case characters : 3\n",
      "No. of Lower case characters : 9\n",
      "Original String :  Hello Mr. Rogers,how are you this fine Tuesday\n",
      "No. of Upper case characters : 3\n",
      "No. of Lower case characters : 10\n",
      "Original String :  Hello Mr. Rogers,how are you this fine Tuesday\n",
      "No. of Upper case characters : 3\n",
      "No. of Lower case characters : 10\n",
      "Original String :  Hello Mr. Rogers,how are you this fine Tuesday\n",
      "No. of Upper case characters : 3\n",
      "No. of Lower case characters : 11\n",
      "Original String :  Hello Mr. Rogers,how are you this fine Tuesday\n",
      "No. of Upper case characters : 3\n",
      "No. of Lower case characters : 12\n",
      "Original String :  Hello Mr. Rogers,how are you this fine Tuesday\n",
      "No. of Upper case characters : 3\n",
      "No. of Lower case characters : 13\n",
      "Original String :  Hello Mr. Rogers,how are you this fine Tuesday\n",
      "No. of Upper case characters : 3\n",
      "No. of Lower case characters : 13\n",
      "Original String :  Hello Mr. Rogers,how are you this fine Tuesday\n",
      "No. of Upper case characters : 3\n",
      "No. of Lower case characters : 14\n",
      "Original String :  Hello Mr. Rogers,how are you this fine Tuesday\n",
      "No. of Upper case characters : 3\n",
      "No. of Lower case characters : 15\n",
      "Original String :  Hello Mr. Rogers,how are you this fine Tuesday\n",
      "No. of Upper case characters : 3\n",
      "No. of Lower case characters : 16\n",
      "Original String :  Hello Mr. Rogers,how are you this fine Tuesday\n",
      "No. of Upper case characters : 3\n",
      "No. of Lower case characters : 16\n",
      "Original String :  Hello Mr. Rogers,how are you this fine Tuesday\n",
      "No. of Upper case characters : 3\n",
      "No. of Lower case characters : 17\n",
      "Original String :  Hello Mr. Rogers,how are you this fine Tuesday\n",
      "No. of Upper case characters : 3\n",
      "No. of Lower case characters : 18\n",
      "Original String :  Hello Mr. Rogers,how are you this fine Tuesday\n",
      "No. of Upper case characters : 3\n",
      "No. of Lower case characters : 19\n",
      "Original String :  Hello Mr. Rogers,how are you this fine Tuesday\n",
      "No. of Upper case characters : 3\n",
      "No. of Lower case characters : 19\n",
      "Original String :  Hello Mr. Rogers,how are you this fine Tuesday\n",
      "No. of Upper case characters : 3\n",
      "No. of Lower case characters : 20\n",
      "Original String :  Hello Mr. Rogers,how are you this fine Tuesday\n",
      "No. of Upper case characters : 3\n",
      "No. of Lower case characters : 21\n",
      "Original String :  Hello Mr. Rogers,how are you this fine Tuesday\n",
      "No. of Upper case characters : 3\n",
      "No. of Lower case characters : 22\n",
      "Original String :  Hello Mr. Rogers,how are you this fine Tuesday\n",
      "No. of Upper case characters : 3\n",
      "No. of Lower case characters : 23\n",
      "Original String :  Hello Mr. Rogers,how are you this fine Tuesday\n",
      "No. of Upper case characters : 3\n",
      "No. of Lower case characters : 23\n",
      "Original String :  Hello Mr. Rogers,how are you this fine Tuesday\n",
      "No. of Upper case characters : 3\n",
      "No. of Lower case characters : 24\n",
      "Original String :  Hello Mr. Rogers,how are you this fine Tuesday\n",
      "No. of Upper case characters : 3\n",
      "No. of Lower case characters : 25\n",
      "Original String :  Hello Mr. Rogers,how are you this fine Tuesday\n",
      "No. of Upper case characters : 3\n",
      "No. of Lower case characters : 26\n",
      "Original String :  Hello Mr. Rogers,how are you this fine Tuesday\n",
      "No. of Upper case characters : 3\n",
      "No. of Lower case characters : 27\n",
      "Original String :  Hello Mr. Rogers,how are you this fine Tuesday\n",
      "No. of Upper case characters : 3\n",
      "No. of Lower case characters : 27\n",
      "Original String :  Hello Mr. Rogers,how are you this fine Tuesday\n",
      "No. of Upper case characters : 4\n",
      "No. of Lower case characters : 27\n",
      "Original String :  Hello Mr. Rogers,how are you this fine Tuesday\n",
      "No. of Upper case characters : 4\n",
      "No. of Lower case characters : 28\n",
      "Original String :  Hello Mr. Rogers,how are you this fine Tuesday\n",
      "No. of Upper case characters : 4\n",
      "No. of Lower case characters : 29\n",
      "Original String :  Hello Mr. Rogers,how are you this fine Tuesday\n",
      "No. of Upper case characters : 4\n",
      "No. of Lower case characters : 30\n",
      "Original String :  Hello Mr. Rogers,how are you this fine Tuesday\n",
      "No. of Upper case characters : 4\n",
      "No. of Lower case characters : 31\n",
      "Original String :  Hello Mr. Rogers,how are you this fine Tuesday\n",
      "No. of Upper case characters : 4\n",
      "No. of Lower case characters : 32\n",
      "Original String :  Hello Mr. Rogers,how are you this fine Tuesday\n",
      "No. of Upper case characters : 4\n",
      "No. of Lower case characters : 33\n"
     ]
    }
   ],
   "source": [
    "up_low(s)"
   ]
  },
  {
   "cell_type": "code",
   "execution_count": null,
   "metadata": {},
   "outputs": [],
   "source": []
  },
  {
   "cell_type": "code",
   "execution_count": 45,
   "metadata": {},
   "outputs": [],
   "source": [
    "def unique_list(l):\n",
    "    for x in l:\n",
    "        return list(set(l))"
   ]
  },
  {
   "cell_type": "code",
   "execution_count": 46,
   "metadata": {},
   "outputs": [
    {
     "data": {
      "text/plain": [
       "[1, 2, 3, 4, 5]"
      ]
     },
     "execution_count": 46,
     "metadata": {},
     "output_type": "execute_result"
    }
   ],
   "source": [
    "unique_list([1,1,1,1,2,2,3,3,3,3,4,5])"
   ]
  },
  {
   "cell_type": "code",
   "execution_count": 51,
   "metadata": {},
   "outputs": [],
   "source": [
    "def multiply(numbers):\n",
    "    total = numbers[0]\n",
    "    for n in numbers:\n",
    "        total *= n\n",
    "    return total"
   ]
  },
  {
   "cell_type": "code",
   "execution_count": 52,
   "metadata": {},
   "outputs": [
    {
     "data": {
      "text/plain": [
       "-24"
      ]
     },
     "execution_count": 52,
     "metadata": {},
     "output_type": "execute_result"
    }
   ],
   "source": [
    "multiply([1,2,3,-4])"
   ]
  },
  {
   "cell_type": "code",
   "execution_count": null,
   "metadata": {},
   "outputs": [],
   "source": []
  },
  {
   "cell_type": "code",
   "execution_count": null,
   "metadata": {},
   "outputs": [],
   "source": []
  },
  {
   "cell_type": "code",
   "execution_count": null,
   "metadata": {},
   "outputs": [],
   "source": []
  },
  {
   "cell_type": "code",
   "execution_count": 53,
   "metadata": {},
   "outputs": [],
   "source": [
    "def palindrome(s):\n",
    "    for string in s:\n",
    "        if string[::] == string[::-1]:\n",
    "            return True\n",
    "        else:\n",
    "            return False"
   ]
  },
  {
   "cell_type": "code",
   "execution_count": 54,
   "metadata": {},
   "outputs": [
    {
     "data": {
      "text/plain": [
       "True"
      ]
     },
     "execution_count": 54,
     "metadata": {},
     "output_type": "execute_result"
    }
   ],
   "source": [
    "palindrome('helleh')"
   ]
  },
  {
   "cell_type": "code",
   "execution_count": 55,
   "metadata": {},
   "outputs": [
    {
     "data": {
      "text/plain": [
       "True"
      ]
     },
     "execution_count": 55,
     "metadata": {},
     "output_type": "execute_result"
    }
   ],
   "source": [
    "palindrome('madam')"
   ]
  },
  {
   "cell_type": "code",
   "execution_count": null,
   "metadata": {},
   "outputs": [],
   "source": []
  },
  {
   "cell_type": "code",
   "execution_count": null,
   "metadata": {},
   "outputs": [],
   "source": []
  },
  {
   "cell_type": "code",
   "execution_count": 29,
   "metadata": {},
   "outputs": [],
   "source": [
    "\n",
    "def ispangram(word,alphabet='abcdefghijklmnopqrstuvwxyz'):\n",
    "    for str1 in word:\n",
    "        if str1 in alphabet:  \n",
    "            return True\n",
    "        else:\n",
    "            return False\n",
    "        \n",
    "        \n",
    "    "
   ]
  },
  {
   "cell_type": "code",
   "execution_count": 30,
   "metadata": {},
   "outputs": [
    {
     "data": {
      "text/plain": [
       "True"
      ]
     },
     "execution_count": 30,
     "metadata": {},
     "output_type": "execute_result"
    }
   ],
   "source": [
    "ispangram(\"the quick brown fox jumps over the lazy dog\")"
   ]
  },
  {
   "cell_type": "code",
   "execution_count": null,
   "metadata": {},
   "outputs": [],
   "source": []
  },
  {
   "cell_type": "code",
   "execution_count": 56,
   "metadata": {},
   "outputs": [],
   "source": [
    "def ispangram(str1,alphabet = 'abcdefghijklmnopqrstuvwxyz'):\n",
    "    alphaset = set(alphabet)\n",
    "    return alphaset <= set(str1.lower())"
   ]
  },
  {
   "cell_type": "code",
   "execution_count": 59,
   "metadata": {},
   "outputs": [
    {
     "data": {
      "text/plain": [
       "True"
      ]
     },
     "execution_count": 59,
     "metadata": {},
     "output_type": "execute_result"
    }
   ],
   "source": [
    "ispangram(\"The quick brown fox jumps over the lazy dog\")"
   ]
  },
  {
   "cell_type": "code",
   "execution_count": null,
   "metadata": {},
   "outputs": [],
   "source": []
  }
 ],
 "metadata": {
  "kernelspec": {
   "display_name": "Python 3",
   "language": "python",
   "name": "python3"
  },
  "language_info": {
   "codemirror_mode": {
    "name": "ipython",
    "version": 3
   },
   "file_extension": ".py",
   "mimetype": "text/x-python",
   "name": "python",
   "nbconvert_exporter": "python",
   "pygments_lexer": "ipython3",
   "version": "3.7.4"
  }
 },
 "nbformat": 4,
 "nbformat_minor": 2
}
